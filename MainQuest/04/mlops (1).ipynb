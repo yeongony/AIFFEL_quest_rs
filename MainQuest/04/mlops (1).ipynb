{
 "cells": [
  {
   "cell_type": "code",
   "execution_count": null,
   "metadata": {},
   "outputs": [],
   "source": [
    "import tensorflow as tf\n",
    "import wandb\n",
    "from wandb.integration.keras import WandbMetricsLogger\n",
    "from datetime import datetime, timedelta\n",
    "from airflow import DAG\n",
    "from airflow.operators.python import PythonOperator\n",
    "import numpy as np\n"
   ]
  },
  {
   "cell_type": "code",
   "execution_count": null,
   "metadata": {},
   "outputs": [],
   "source": [
    "# Wandb 설정\n",
    "\n",
    "wandb.login()\n",
    "WANDB_PROJECT = aa\n",
    "WANDB_ENTITY = bb"
   ]
  },
  {
   "cell_type": "code",
   "execution_count": null,
   "metadata": {},
   "outputs": [],
   "source": [
    "def load_and_preprocess_data():\n",
    "    # TensorFlow.keras로 MNISTS 데이터셋 로드하고 전처리해주세요!\n",
    "    #[[YOUR CODE]]\n",
    "    return (x_train, y_train), (x_test, y_test)\n"
   ]
  },
  {
   "cell_type": "code",
   "execution_count": null,
   "metadata": {},
   "outputs": [],
   "source": [
    "def create_model(learning_rate=0.001, conv1_filters=32, conv2_filters=64):\n",
    "    \"\"\"CNN 모델을 간단하게 생성해주세요\"\"\"\n",
    "    #[[YOUR CODE]]\n",
    "    \n",
    "    return model"
   ]
  },
  {
   "cell_type": "code",
   "execution_count": null,
   "metadata": {},
   "outputs": [],
   "source": [
    "def train_model(**context):\n",
    "    \"\"\"모델 학습 및 W&B 로깅\"\"\"\n",
    "    # W&B 초기화\n",
    "    wandb.init(\n",
    "        #[[YOUR CODE]]\n",
    "    )\n",
    "    \n",
    "    # 데이터 로드\n",
    "    (x_train, y_train), (x_test, y_test) = load_and_preprocess_data()\n",
    "    \n",
    "    # 모델 생성\n",
    "    model = create_model(\n",
    "        #[[YOUR CODE]]\n",
    "    )\n",
    "    \n",
    "    # 모델 학습\n",
    "    model.fit(\n",
    "\n",
    "        #[[YOUR CODE]]\n",
    "    )\n",
    "    \n",
    "    # 모델 평가\n",
    "    test_loss, test_accuracy = model.evaluate(x_test, y_test)\n",
    "    print(f\"Test accuracy: {test_accuracy}\")\n",
    "    \n",
    "    # W&B에 최종 메트릭 기록 (test_loss, test_accuracy)\n",
    "    wandb.log({\n",
    "        #[[YOUR CODE]]\n",
    "    })\n",
    "    \n",
    "    # 모델 저장\n",
    "    model.save(f\"mnist_model_{datetime.now().strftime('%Y%m%d_%H%M%S')}.keras\")\n",
    "    \n",
    "    wandb.finish()"
   ]
  },
  {
   "cell_type": "code",
   "execution_count": null,
   "metadata": {},
   "outputs": [],
   "source": [
    "def hyperparameter_sweep():\n",
    "    \"\"\"W&B를 사용한 하이퍼파라미터 튜닝\"\"\"\n",
    "    sweep_config = {\n",
    "        'method': 'random',\n",
    "        'metric': {'name': 'val_accuracy', 'goal': 'maximize'},\n",
    "        'parameters': {\n",
    "            'learning_rate': {'values': [0.001, 0.01, 0.0001]},\n",
    "            'conv1_filters': {'values': [16, 32, 64]},\n",
    "            'conv2_filters': {'values': [32, 64, 128]},\n",
    "            'batch_size': {'values': [64, 128, 256]}\n",
    "        }\n",
    "    }\n",
    "    \n",
    "    sweep_id = wandb.sweep(sweep_config, project=WANDB_PROJECT)\n",
    "    wandb.agent(sweep_id, train_model, count=5)"
   ]
  },
  {
   "cell_type": "code",
   "execution_count": null,
   "metadata": {},
   "outputs": [],
   "source": [
    "# Airflow DAG 정의\n",
    "\n",
    "import pendulum  # Airflow는 pendulum을 사용합니다\n",
    "\n",
    "local_tz = pendulum.timezone(\"Asia/Seoul\")  # 한국 시간대 사용\n",
    "\n",
    "default_args = {\n",
    "    'owner': 'airflow',\n",
    "    'start_date': datetime(2024, 1, 1, tzinfo=local_tz),\n",
    "    'retries': 1,\n",
    "    'retry_delay': timedelta(minutes=5),\n",
    "}\n",
    "\n",
    "\n",
    "\n",
    "dag = DAG(\n",
    "    'mnist_training_pipeline',\n",
    "    default_args=default_args,\n",
    "    description='MNIST 학습 파이프라인',\n",
    "    schedule = '@daily',\n",
    "    catchup=False\n",
    ")\n",
    "\n",
    "# DAG 태스크 정의\n",
    "preprocessing_task = PythonOperator(\n",
    "    task_id='load_and_preprocess_data',\n",
    "    python_callable=load_and_preprocess_data,\n",
    "    dag=dag\n",
    ")\n",
    "\n",
    "training_task = PythonOperator(\n",
    "    task_id='train_model',\n",
    "    python_callable=train_model,\n",
    "    dag=dag\n",
    ")\n",
    "\n",
    "hyperparameter_tuning_task = PythonOperator(\n",
    "    task_id='hyperparameter_tuning',\n",
    "    python_callable=hyperparameter_sweep,\n",
    "    dag=dag\n",
    ")\n",
    "\n",
    "# 태스크 의존성 설정\n",
    "preprocessing_task >> training_task >> hyperparameter_tuning_task\n",
    "\n",
    "# Jupyter Notebook에서 직접 실행하기 위한 코드\n",
    "if __name__ == \"__main__\":\n",
    "    # 단일 실험 실행\n",
    "    train_model()\n",
    "\n",
    "    # hyperparameter_sweep()"
   ]
  },
  {
   "cell_type": "code",
   "execution_count": null,
   "metadata": {},
   "outputs": [],
   "source": [
    "execution_date = datetime(2024, 11, 10, tzinfo=local_tz)\n",
    "dag.test(execution_date=execution_date)"
   ]
  },
  {
   "cell_type": "code",
   "execution_count": null,
   "metadata": {},
   "outputs": [],
   "source": []
  },
  {
   "cell_type": "code",
   "execution_count": null,
   "metadata": {},
   "outputs": [],
   "source": []
  }
 ],
 "metadata": {
  "kernelspec": {
   "display_name": "aiffel_mlops",
   "language": "python",
   "name": "python3"
  },
  "language_info": {
   "codemirror_mode": {
    "name": "ipython",
    "version": 3
   },
   "file_extension": ".py",
   "mimetype": "text/x-python",
   "name": "python",
   "nbconvert_exporter": "python",
   "pygments_lexer": "ipython3",
   "version": "3.12.7"
  }
 },
 "nbformat": 4,
 "nbformat_minor": 2
}
